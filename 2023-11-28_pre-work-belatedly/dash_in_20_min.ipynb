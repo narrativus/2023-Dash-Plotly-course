{
 "cells": [
  {
   "cell_type": "markdown",
   "metadata": {},
   "source": [
    "See\n",
    "https://dash.plotly.com/tutorial"
   ]
  },
  {
   "cell_type": "markdown",
   "metadata": {},
   "source": [
    "## Hello World\n",
    "Building and launching an app with Dash can be done with just 7 lines of code.\n",
    "\n",
    "Open a Python IDE on your computer, create an app.py file with the code below and install Dash if you haven't done so already. To launch the app, type into your terminal the command python app.py. Then, go to the http link.\n",
    "\n",
    "Alternatively, with Dash 2.11 or later, you can run this app and other examples from this documentation in a Jupyter Notebook.\n",
    "\n",
    "The code below creates a very small \"Hello World\" Dash app."
   ]
  },
  {
   "cell_type": "code",
   "execution_count": 1,
   "metadata": {},
   "outputs": [
    {
     "data": {
      "text/html": [
       "\n",
       "        <iframe\n",
       "            width=\"100%\"\n",
       "            height=\"650\"\n",
       "            src=\"http://127.0.0.1:8050/\"\n",
       "            frameborder=\"0\"\n",
       "            allowfullscreen\n",
       "            \n",
       "        ></iframe>\n",
       "        "
      ],
      "text/plain": [
       "<IPython.lib.display.IFrame at 0x7f1fd191ada0>"
      ]
     },
     "metadata": {},
     "output_type": "display_data"
    }
   ],
   "source": [
    "from dash import Dash, html\n",
    "\n",
    "app = Dash(__name__)\n",
    "# This line is known as the Dash constructor and is responsible for initializing your app.\n",
    "# # It is almost always the same for any Dash app you create.\n",
    "\n",
    "app.layout = html.Div([html.Div(children=\"Hello World\")])\n",
    "# The app layout represents the app components that will be displayed in the web browser,\n",
    "# normally contained within a html.Div. In this example, a single component was added: another html.Div.\n",
    "# The Div has a few properties, such as children, which we use to add text content to the page: \"Hello World\".\n",
    "\n",
    "if __name__ == \"__main__\":\n",
    "    app.run(debug=True)\n",
    "# These lines are for running your app, and they are almost always the same for any Dash app you create."
   ]
  },
  {
   "cell_type": "markdown",
   "metadata": {},
   "source": [
    "https://www.w3schools.com/tags/tag_div.ASP\n",
    "\n",
    "Definition and Usage\n",
    "The <div> tag defines a division or a section in an HTML document.\n",
    "\n",
    "The <div> tag is used as a container for HTML elements - which is then styled with CSS or manipulated with JavaScript.\n",
    "\n",
    "The <div> tag is easily styled by using the class or id attribute.\n",
    "\n",
    "Any sort of content can be put inside the <div> tag! \n",
    "\n",
    "Note: By default, browsers always place a line break before and after the <div> element."
   ]
  },
  {
   "cell_type": "markdown",
   "metadata": {},
   "source": [
    "## Connecting to Data\n",
    "\n",
    "There are many ways to add data to an app: APIs, external databases, local .txt files, JSON files, and more. In this example, we will highlight one of the most common ways of incorporating data from a CSV sheet.\n",
    "\n",
    "Replace the app.py code from the previous section with the code below. Then, install pandas (pip install pandas) and launch the app."
   ]
  },
  {
   "cell_type": "code",
   "execution_count": 2,
   "metadata": {},
   "outputs": [
    {
     "data": {
      "text/html": [
       "\n",
       "        <iframe\n",
       "            width=\"100%\"\n",
       "            height=\"650\"\n",
       "            src=\"http://127.0.0.1:8050/\"\n",
       "            frameborder=\"0\"\n",
       "            allowfullscreen\n",
       "            \n",
       "        ></iframe>\n",
       "        "
      ],
      "text/plain": [
       "<IPython.lib.display.IFrame at 0x7f1f81da2aa0>"
      ]
     },
     "metadata": {},
     "output_type": "display_data"
    }
   ],
   "source": [
    "# Import packages\n",
    "from dash import Dash, html, dash_table\n",
    "import pandas as pd\n",
    "\n",
    "# We import the dash_table module to display the data inside a Dash DataTable.\n",
    "# We also import the pandas library to read the CSV sheet data.\n",
    "\n",
    "# Incorporate data\n",
    "df = pd.read_csv(\n",
    "    \"https://raw.githubusercontent.com/plotly/datasets/master/gapminder2007.csv\"\n",
    ")\n",
    "# Here we read the CSV sheet into a pandas dataframe. This will make it easier to slice, filter, and inspect the data.\n",
    "# If you prefer to use a CSV sheet that is on your computer (and not online), make sure to save it in the same folder that contains the app.py file. Then, update the line of code to: df = pd.read_csv('NameOfYourFile.csv')\n",
    "# If you're using an Excel sheet, make sure to pip install openpyxl. Then, update the line of code to: df = pd.read_excel('NameOfYourFile.xlsx', sheet_name='Sheet1')\n",
    "\n",
    "# Initialize the app\n",
    "app = Dash(__name__)\n",
    "\n",
    "# App layout\n",
    "app.layout = html.Div(\n",
    "    [\n",
    "        html.Div(children=\"My First App with Data\"),\n",
    "        dash_table.DataTable(data=df.to_dict(\"records\"), page_size=10),\n",
    "    ]\n",
    ")\n",
    "# In addition to the app title, we add the DataTable component and read the pandas dataframe into the table.\n",
    "\n",
    "# Run the app\n",
    "if __name__ == \"__main__\":\n",
    "    app.run(debug=True)"
   ]
  },
  {
   "cell_type": "markdown",
   "metadata": {},
   "source": [
    "## Visualizing Data\n",
    "The Plotly graphing library has more than 50 chart types to choose from. In this example, we will make use of the histogram chart.\n",
    "\n",
    "Replace the app.py code from the previous section with the code below."
   ]
  },
  {
   "cell_type": "code",
   "execution_count": 3,
   "metadata": {},
   "outputs": [
    {
     "data": {
      "text/html": [
       "\n",
       "        <iframe\n",
       "            width=\"100%\"\n",
       "            height=\"650\"\n",
       "            src=\"http://127.0.0.1:8050/\"\n",
       "            frameborder=\"0\"\n",
       "            allowfullscreen\n",
       "            \n",
       "        ></iframe>\n",
       "        "
      ],
      "text/plain": [
       "<IPython.lib.display.IFrame at 0x7f1f7b39ce50>"
      ]
     },
     "metadata": {},
     "output_type": "display_data"
    }
   ],
   "source": [
    "# Import packages\n",
    "from dash import Dash, html, dash_table, dcc\n",
    "import pandas as pd\n",
    "import plotly.express as px\n",
    "\n",
    "# Incorporate data\n",
    "df = pd.read_csv(\n",
    "    \"https://raw.githubusercontent.com/plotly/datasets/master/gapminder2007.csv\"\n",
    ")\n",
    "# We import the dcc module (DCC stands for Dash Core Components).\n",
    "# This module includes a Graph component called dcc.Graph, which is used to render interactive graphs.\n",
    "# We also import the plotly.express library to build the interactive graphs.\n",
    "\n",
    "# Initialize the app\n",
    "app = Dash(__name__)\n",
    "\n",
    "# App layout\n",
    "app.layout = html.Div(\n",
    "    [\n",
    "        html.Div(children=\"My First App with Data and a Graph\"),\n",
    "        dash_table.DataTable(data=df.to_dict(\"records\"), page_size=10),\n",
    "        dcc.Graph(figure=px.histogram(df, x=\"continent\", y=\"lifeExp\", histfunc=\"avg\")),\n",
    "    ]\n",
    ")\n",
    "# Using the plotly.express library, we build the histogram chart\n",
    "# and assign it to the figure property of the dcc.Graph. This displays the histogram in our app.\n",
    "\n",
    "# Run the app\n",
    "if __name__ == \"__main__\":\n",
    "    app.run(debug=True)"
   ]
  },
  {
   "cell_type": "markdown",
   "metadata": {},
   "source": [
    "## Controls and Callbacks\n",
    "So far you have built a static app that displays tabular data and a graph. However, as you develop more sophisticated Dash apps, you will likely want to give the app user more freedom to interact with the app and explore the data in greater depth. To achieve that, you will need to add controls to the app by using the callback function.\n",
    "\n",
    "In this example we will add radio buttons to the app layout. Then, we will build the callback to create the interaction between the radio buttons and the histogram chart."
   ]
  },
  {
   "cell_type": "code",
   "execution_count": 4,
   "metadata": {},
   "outputs": [
    {
     "data": {
      "text/html": [
       "\n",
       "        <iframe\n",
       "            width=\"100%\"\n",
       "            height=\"650\"\n",
       "            src=\"http://127.0.0.1:8050/\"\n",
       "            frameborder=\"0\"\n",
       "            allowfullscreen\n",
       "            \n",
       "        ></iframe>\n",
       "        "
      ],
      "text/plain": [
       "<IPython.lib.display.IFrame at 0x7f1f81da22f0>"
      ]
     },
     "metadata": {},
     "output_type": "display_data"
    }
   ],
   "source": [
    "# Import packages\n",
    "from dash import Dash, html, dash_table, dcc, callback, Output, Input\n",
    "import pandas as pd\n",
    "import plotly.express as px\n",
    "\n",
    "# We import dcc like we did in the previous section to use dcc.Graph. In this example, we need dcc for dcc.Graph\n",
    "# as well as the radio buttons component, dcc.RadioItems.\n",
    "# To work with the callback in a Dash app, we import the callback module and the two arguments\n",
    "# commonly used within the callback: Output and Input.\n",
    "\n",
    "# Incorporate data\n",
    "df = pd.read_csv(\n",
    "    \"https://raw.githubusercontent.com/plotly/datasets/master/gapminder2007.csv\"\n",
    ")\n",
    "\n",
    "# Initialize the app\n",
    "app = Dash(__name__)\n",
    "\n",
    "# App layout\n",
    "app.layout = html.Div(\n",
    "    [\n",
    "        html.Div(children=\"My First App with Data, Graph, and Controls\"),\n",
    "        html.Hr(),\n",
    "        dcc.RadioItems(\n",
    "            options=[\"pop\", \"lifeExp\", \"gdpPercap\"],\n",
    "            value=\"lifeExp\",\n",
    "            id=\"controls-and-radio-item\",\n",
    "        ),\n",
    "        dash_table.DataTable(data=df.to_dict(\"records\"), page_size=6),\n",
    "        dcc.Graph(figure={}, id=\"controls-and-graph\"),\n",
    "    ]\n",
    ")\n",
    "# Notice that we add that RadioItems component to the layout, directly above the DataTable.\n",
    "# There are three options, one for every radio button. The lifeExp option is assigned to the value property,\n",
    "# making it the currently selected value.\n",
    "# Both the RadioItems and the Graph components were given id names: these will be used by the callback to identify the components.\n",
    "\n",
    "\n",
    "# Add controls to build the interaction\n",
    "@callback(\n",
    "    Output(component_id=\"controls-and-graph\", component_property=\"figure\"),\n",
    "    Input(component_id=\"controls-and-radio-item\", component_property=\"value\"),\n",
    ")\n",
    "def update_graph(col_chosen):\n",
    "    fig = px.histogram(df, x=\"continent\", y=col_chosen, histfunc=\"avg\")\n",
    "    return fig\n",
    "\n",
    "\n",
    "# The inputs and outputs of our app are the properties of a particular component.\n",
    "# In this example, our input is the value property of the component that has the ID \"controls-and-radio-item\".\n",
    "# If you look back at the layout, you will see that this is currently lifeExp. Our output is the\n",
    "# figure property of the component with the ID \"controls-and-graph\", which is currently an empty dictionary (empty graph).\n",
    "# The callback function's argument col_chosen refers to the component property of the input lifeExp.\n",
    "# We build the histogram chart inside the callback function, assigning the chosen radio item to the\n",
    "# y-axis attribute of the histogram. This means that every time the user selects a new radio item,\n",
    "# the figure is rebuilt and the y-axis of the figure is updated.\n",
    "# Finally, we return the histogram at the end of the function. This assigns the histogram to the figure property of\n",
    "# the dcc.Graph, thus displaying the figure in the app.\n",
    "\n",
    "# Run the app\n",
    "if __name__ == \"__main__\":\n",
    "    app.run(debug=True)"
   ]
  },
  {
   "cell_type": "markdown",
   "metadata": {},
   "source": [
    "## aaa\n",
    "aaa"
   ]
  }
 ],
 "metadata": {
  "kernelspec": {
   "display_name": "2023-dash-plotly-course-qppOTpMz-py3.10",
   "language": "python",
   "name": "python3"
  },
  "language_info": {
   "codemirror_mode": {
    "name": "ipython",
    "version": 3
   },
   "file_extension": ".py",
   "mimetype": "text/x-python",
   "name": "python",
   "nbconvert_exporter": "python",
   "pygments_lexer": "ipython3",
   "version": "3.10.12"
  }
 },
 "nbformat": 4,
 "nbformat_minor": 2
}
