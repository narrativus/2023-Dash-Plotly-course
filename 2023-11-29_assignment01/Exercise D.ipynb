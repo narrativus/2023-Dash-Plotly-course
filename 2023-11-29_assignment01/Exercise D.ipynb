{
 "cells": [
  {
   "cell_type": "code",
   "execution_count": 2,
   "metadata": {},
   "outputs": [
    {
     "data": {
      "text/html": [
       "\n",
       "        <iframe\n",
       "            width=\"100%\"\n",
       "            height=\"650\"\n",
       "            src=\"http://127.0.0.1:8051/\"\n",
       "            frameborder=\"0\"\n",
       "            allowfullscreen\n",
       "            \n",
       "        ></iframe>\n",
       "        "
      ],
      "text/plain": [
       "<IPython.lib.display.IFrame at 0x7f4f77371390>"
      ]
     },
     "metadata": {},
     "output_type": "display_data"
    }
   ],
   "source": [
    "from dash import Dash, dcc, html\n",
    "import plotly.express as px\n",
    "import pandas as pd\n",
    "\n",
    "df = pd.read_csv(\n",
    "    \"https://raw.githubusercontent.com/plotly/datasets/master/Dash-Course/makeup-shades/shades.csv\"\n",
    ")\n",
    "\n",
    "app = Dash(__name__)\n",
    "\n",
    "fig = px.scatter(df, x=\"V\", y=\"S\")\n",
    "\n",
    "app.layout = html.Div([dcc.Graph(figure=fig)])\n",
    "\n",
    "if __name__ == \"__main__\":\n",
    "    app.run(debug=True, port=8051)"
   ]
  }
 ],
 "metadata": {
  "kernelspec": {
   "display_name": "2023-dash-plotly-course-qppOTpMz-py3.10",
   "language": "python",
   "name": "python3"
  },
  "language_info": {
   "codemirror_mode": {
    "name": "ipython",
    "version": 3
   },
   "file_extension": ".py",
   "mimetype": "text/x-python",
   "name": "python",
   "nbconvert_exporter": "python",
   "pygments_lexer": "ipython3",
   "version": "3.10.12"
  }
 },
 "nbformat": 4,
 "nbformat_minor": 2
}
