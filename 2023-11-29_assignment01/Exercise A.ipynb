{
 "cells": [
  {
   "cell_type": "markdown",
   "metadata": {},
   "source": [
    "Exercise A:  incorporate the dataset shades.csv  into your app. And create the following layout in one app file:\n",
    "\n",
    "\n",
    "1. A [Dropdown](https://dash.plotly.com/dash-core-components/dropdown)  that uses the column brand  as the dropdown options. Make sure the brand names are unique (do not repeat themselves). Then, assign “Revlon” as the initial value.\n",
    "\n",
    "\n",
    "2. A [RadioItems](https://dash.plotly.com/dash-core-components/radioitems) component in which the values from the column named group  are assigned to the options  property. The options should be unique and sorted from 0 to 7.\n",
    "\n",
    "\n",
    "3. Update the options  property of the RadioItems  component so that the values  (of the options) represent numbers from 0 to 7, but the labels  are their respective strings ( see [Readme-shades](https://github.com/plotly/datasets/blob/master/Dash-Course/makeup-shades/README-shades.md)  for the strings )."
   ]
  },
  {
   "cell_type": "code",
   "execution_count": 1,
   "metadata": {},
   "outputs": [],
   "source": [
    "from dash import Dash, dcc, html\n",
    "import pandas as pd"
   ]
  },
  {
   "cell_type": "code",
   "execution_count": 2,
   "metadata": {},
   "outputs": [],
   "source": [
    "shades = pd.read_csv(\n",
    "    \"https://raw.githubusercontent.com/plotly/datasets/master/Dash-Course/makeup-shades/shades.csv\"\n",
    ")"
   ]
  },
  {
   "cell_type": "code",
   "execution_count": 3,
   "metadata": {},
   "outputs": [
    {
     "data": {
      "text/html": [
       "<div>\n",
       "<style scoped>\n",
       "    .dataframe tbody tr th:only-of-type {\n",
       "        vertical-align: middle;\n",
       "    }\n",
       "\n",
       "    .dataframe tbody tr th {\n",
       "        vertical-align: top;\n",
       "    }\n",
       "\n",
       "    .dataframe thead th {\n",
       "        text-align: right;\n",
       "    }\n",
       "</style>\n",
       "<table border=\"1\" class=\"dataframe\">\n",
       "  <thead>\n",
       "    <tr style=\"text-align: right;\">\n",
       "      <th></th>\n",
       "      <th>brand</th>\n",
       "      <th>brand_short</th>\n",
       "      <th>product</th>\n",
       "      <th>product_short</th>\n",
       "      <th>hex</th>\n",
       "      <th>H</th>\n",
       "      <th>S</th>\n",
       "      <th>V</th>\n",
       "      <th>L</th>\n",
       "      <th>group</th>\n",
       "    </tr>\n",
       "  </thead>\n",
       "  <tbody>\n",
       "    <tr>\n",
       "      <th>0</th>\n",
       "      <td>Maybelline</td>\n",
       "      <td>mb</td>\n",
       "      <td>Fit Me</td>\n",
       "      <td>fmf</td>\n",
       "      <td>f3cfb3</td>\n",
       "      <td>26.0</td>\n",
       "      <td>0.26</td>\n",
       "      <td>0.95</td>\n",
       "      <td>86</td>\n",
       "      <td>2</td>\n",
       "    </tr>\n",
       "    <tr>\n",
       "      <th>1</th>\n",
       "      <td>Maybelline</td>\n",
       "      <td>mb</td>\n",
       "      <td>Fit Me</td>\n",
       "      <td>fmf</td>\n",
       "      <td>ffe3c2</td>\n",
       "      <td>32.0</td>\n",
       "      <td>0.24</td>\n",
       "      <td>1.00</td>\n",
       "      <td>92</td>\n",
       "      <td>2</td>\n",
       "    </tr>\n",
       "    <tr>\n",
       "      <th>2</th>\n",
       "      <td>Maybelline</td>\n",
       "      <td>mb</td>\n",
       "      <td>Fit Me</td>\n",
       "      <td>fmf</td>\n",
       "      <td>ffe0cd</td>\n",
       "      <td>23.0</td>\n",
       "      <td>0.20</td>\n",
       "      <td>1.00</td>\n",
       "      <td>91</td>\n",
       "      <td>2</td>\n",
       "    </tr>\n",
       "    <tr>\n",
       "      <th>3</th>\n",
       "      <td>Maybelline</td>\n",
       "      <td>mb</td>\n",
       "      <td>Fit Me</td>\n",
       "      <td>fmf</td>\n",
       "      <td>ffd3be</td>\n",
       "      <td>19.0</td>\n",
       "      <td>0.25</td>\n",
       "      <td>1.00</td>\n",
       "      <td>88</td>\n",
       "      <td>2</td>\n",
       "    </tr>\n",
       "    <tr>\n",
       "      <th>4</th>\n",
       "      <td>Maybelline</td>\n",
       "      <td>mb</td>\n",
       "      <td>Fit Me</td>\n",
       "      <td>fmf</td>\n",
       "      <td>bd9584</td>\n",
       "      <td>18.0</td>\n",
       "      <td>0.30</td>\n",
       "      <td>0.74</td>\n",
       "      <td>65</td>\n",
       "      <td>2</td>\n",
       "    </tr>\n",
       "  </tbody>\n",
       "</table>\n",
       "</div>"
      ],
      "text/plain": [
       "        brand brand_short product product_short     hex     H     S     V   L  \\\n",
       "0  Maybelline          mb  Fit Me           fmf  f3cfb3  26.0  0.26  0.95  86   \n",
       "1  Maybelline          mb  Fit Me           fmf  ffe3c2  32.0  0.24  1.00  92   \n",
       "2  Maybelline          mb  Fit Me           fmf  ffe0cd  23.0  0.20  1.00  91   \n",
       "3  Maybelline          mb  Fit Me           fmf  ffd3be  19.0  0.25  1.00  88   \n",
       "4  Maybelline          mb  Fit Me           fmf  bd9584  18.0  0.30  0.74  65   \n",
       "\n",
       "   group  \n",
       "0      2  \n",
       "1      2  \n",
       "2      2  \n",
       "3      2  \n",
       "4      2  "
      ]
     },
     "execution_count": 3,
     "metadata": {},
     "output_type": "execute_result"
    }
   ],
   "source": [
    "shades.head()"
   ]
  },
  {
   "cell_type": "markdown",
   "metadata": {},
   "source": [
    "1. A [Dropdown](https://dash.plotly.com/dash-core-components/dropdown)  that uses the column brand  as the dropdown options. Make sure the brand names are unique (do not repeat themselves). Then, assign “Revlon” as the initial value."
   ]
  },
  {
   "cell_type": "code",
   "execution_count": 5,
   "metadata": {},
   "outputs": [
    {
     "data": {
      "text/plain": [
       "array(['Maybelline', 'bareMinerals', 'Estée Lauder', 'Revlon', \"L'Oréal\",\n",
       "       'Covergirl + Olay', 'Fenty', 'Iman', 'Beauty Bakerie', 'Black Up',\n",
       "       'Black Opal', 'Laws of Nature', 'Lancôme', 'MAC', 'Bobbi Brown',\n",
       "       'Make Up For Ever', 'Hegai and Ester', 'House of Tara',\n",
       "       'Trim & Prissy', 'Elsas Pro', 'Kuddy', 'RMK', 'Addiction',\n",
       "       'Shu Uemera', 'Shiseido', 'Kate', 'IPSA', 'Dior', 'NARS', 'Lakmé',\n",
       "       'Colorbar', 'Bharat & Doris', 'Olivia', 'Blue Heaven',\n",
       "       'Lotus Herbals', 'Nykaa'], dtype=object)"
      ]
     },
     "execution_count": 5,
     "metadata": {},
     "output_type": "execute_result"
    }
   ],
   "source": [
    "shades.brand.unique()"
   ]
  },
  {
   "cell_type": "code",
   "execution_count": 4,
   "metadata": {},
   "outputs": [
    {
     "data": {
      "text/html": [
       "\n",
       "        <iframe\n",
       "            width=\"100%\"\n",
       "            height=\"650\"\n",
       "            src=\"http://127.0.0.1:8050/\"\n",
       "            frameborder=\"0\"\n",
       "            allowfullscreen\n",
       "            \n",
       "        ></iframe>\n",
       "        "
      ],
      "text/plain": [
       "<IPython.lib.display.IFrame at 0x7f6dce1e6440>"
      ]
     },
     "metadata": {},
     "output_type": "display_data"
    }
   ],
   "source": [
    "app = Dash(__name__)\n",
    "\n",
    "app.layout = html.Div([dcc.Dropdown(options=shades.brand.unique(), value=\"Revlon\")])\n",
    "\n",
    "if __name__ == \"__main__\":\n",
    "    app.run(debug=True)"
   ]
  },
  {
   "cell_type": "markdown",
   "metadata": {},
   "source": [
    "2. A [RadioItems](https://dash.plotly.com/dash-core-components/radioitems) component in which the values from the column named \"`group`\" are assigned to the options  property. The options should be unique and sorted from 0 to 7."
   ]
  },
  {
   "cell_type": "code",
   "execution_count": 6,
   "metadata": {},
   "outputs": [
    {
     "data": {
      "text/html": [
       "\n",
       "        <iframe\n",
       "            width=\"100%\"\n",
       "            height=\"650\"\n",
       "            src=\"http://127.0.0.1:8050/\"\n",
       "            frameborder=\"0\"\n",
       "            allowfullscreen\n",
       "            \n",
       "        ></iframe>\n",
       "        "
      ],
      "text/plain": [
       "<IPython.lib.display.IFrame at 0x7f6dce1e56f0>"
      ]
     },
     "metadata": {},
     "output_type": "display_data"
    }
   ],
   "source": [
    "app = Dash(__name__)\n",
    "\n",
    "app.layout = html.Div(\n",
    "    [\n",
    "        dcc.Dropdown(options=shades.brand.unique(), value=\"Revlon\"),\n",
    "        dcc.RadioItems(options=sorted(shades.group.unique())),\n",
    "    ]\n",
    ")\n",
    "\n",
    "if __name__ == \"__main__\":\n",
    "    app.run(debug=True)"
   ]
  },
  {
   "cell_type": "markdown",
   "metadata": {},
   "source": [
    "3. Update the _options_  property of the RadioItems  component so that the values  (of the options) represent numbers from 0 to 7, but the labels  are their respective strings (see [Readme-shades](https://github.com/plotly/datasets/blob/master/Dash-Course/makeup-shades/README-shades.md) for the strings)."
   ]
  },
  {
   "cell_type": "code",
   "execution_count": 7,
   "metadata": {},
   "outputs": [
    {
     "data": {
      "text/html": [
       "\n",
       "        <iframe\n",
       "            width=\"100%\"\n",
       "            height=\"650\"\n",
       "            src=\"http://127.0.0.1:8050/\"\n",
       "            frameborder=\"0\"\n",
       "            allowfullscreen\n",
       "            \n",
       "        ></iframe>\n",
       "        "
      ],
      "text/plain": [
       "<IPython.lib.display.IFrame at 0x7f6dcc89df60>"
      ]
     },
     "metadata": {},
     "output_type": "display_data"
    }
   ],
   "source": [
    "# See groups descriptions here: https://github.com/plotly/datasets/blob/master/Dash-Course/makeup-shades/README-shades.md\n",
    "\n",
    "app = Dash(__name__)\n",
    "\n",
    "app.layout = html.Div(\n",
    "    [\n",
    "        dcc.Dropdown(options=shades.brand.unique(), value=\"Revlon\"),\n",
    "        dcc.RadioItems(\n",
    "            options=[\n",
    "                {\"label\": \"Fenty Beauty's PRO FILT'R Foundation Only\", \"value\": 0},\n",
    "                {\"label\": \"Make Up For Ever's Ultra HD Foundation Only\", \"value\": 1},\n",
    "                {\"label\": \"US Best Sellers\", \"value\": 2},\n",
    "                {\"label\": \"BIPOC-recommended Brands with BIPOC Founders\", \"value\": 3},\n",
    "                {\"label\": \"BIPOC-recommended Brands with White Founders\", \"value\": 4},\n",
    "                {\"label\": \"Nigerian Best Sellers\", \"value\": 5},\n",
    "                {\"label\": \"Japanese Best Sellers\", \"value\": 6},\n",
    "                {\"label\": \"Indian Best Sellers\", \"value\": 7},\n",
    "            ]\n",
    "        ),\n",
    "    ]\n",
    ")\n",
    "\n",
    "if __name__ == \"__main__\":\n",
    "    app.run(debug=True)"
   ]
  }
 ],
 "metadata": {
  "kernelspec": {
   "display_name": "2023-dash-plotly-course-qppOTpMz-py3.10",
   "language": "python",
   "name": "python3"
  },
  "language_info": {
   "codemirror_mode": {
    "name": "ipython",
    "version": 3
   },
   "file_extension": ".py",
   "mimetype": "text/x-python",
   "name": "python",
   "nbconvert_exporter": "python",
   "pygments_lexer": "ipython3",
   "version": "3.10.12"
  }
 },
 "nbformat": 4,
 "nbformat_minor": 2
}
